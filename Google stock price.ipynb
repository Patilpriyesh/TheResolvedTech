{
 "cells": [
  {
   "cell_type": "code",
   "execution_count": 17,
   "metadata": {},
   "outputs": [],
   "source": [
    "import numpy as np \n",
    "import pandas as pd \n",
    "import matplotlib.pyplot as plt \n",
    "from sklearn.preprocessing import MinMaxScaler\n",
    "from keras.models import Sequential\n",
    "from keras.layers import Dense,LSTM,Dropout"
   ]
  },
  {
   "cell_type": "code",
   "execution_count": 18,
   "metadata": {},
   "outputs": [
    {
     "data": {
      "text/html": [
       "<div>\n",
       "<style scoped>\n",
       "    .dataframe tbody tr th:only-of-type {\n",
       "        vertical-align: middle;\n",
       "    }\n",
       "\n",
       "    .dataframe tbody tr th {\n",
       "        vertical-align: top;\n",
       "    }\n",
       "\n",
       "    .dataframe thead th {\n",
       "        text-align: right;\n",
       "    }\n",
       "</style>\n",
       "<table border=\"1\" class=\"dataframe\">\n",
       "  <thead>\n",
       "    <tr style=\"text-align: right;\">\n",
       "      <th></th>\n",
       "      <th>Date</th>\n",
       "      <th>Open</th>\n",
       "      <th>High</th>\n",
       "      <th>Low</th>\n",
       "      <th>Close</th>\n",
       "      <th>Volume</th>\n",
       "    </tr>\n",
       "  </thead>\n",
       "  <tbody>\n",
       "    <tr>\n",
       "      <th>0</th>\n",
       "      <td>1/3/2012</td>\n",
       "      <td>325.25</td>\n",
       "      <td>332.83</td>\n",
       "      <td>324.97</td>\n",
       "      <td>663.59</td>\n",
       "      <td>7,380,500</td>\n",
       "    </tr>\n",
       "    <tr>\n",
       "      <th>1</th>\n",
       "      <td>1/4/2012</td>\n",
       "      <td>331.27</td>\n",
       "      <td>333.87</td>\n",
       "      <td>329.08</td>\n",
       "      <td>666.45</td>\n",
       "      <td>5,749,400</td>\n",
       "    </tr>\n",
       "    <tr>\n",
       "      <th>2</th>\n",
       "      <td>1/5/2012</td>\n",
       "      <td>329.83</td>\n",
       "      <td>330.75</td>\n",
       "      <td>326.89</td>\n",
       "      <td>657.21</td>\n",
       "      <td>6,590,300</td>\n",
       "    </tr>\n",
       "    <tr>\n",
       "      <th>3</th>\n",
       "      <td>1/6/2012</td>\n",
       "      <td>328.34</td>\n",
       "      <td>328.77</td>\n",
       "      <td>323.68</td>\n",
       "      <td>648.24</td>\n",
       "      <td>5,405,900</td>\n",
       "    </tr>\n",
       "    <tr>\n",
       "      <th>4</th>\n",
       "      <td>1/9/2012</td>\n",
       "      <td>322.04</td>\n",
       "      <td>322.29</td>\n",
       "      <td>309.46</td>\n",
       "      <td>620.76</td>\n",
       "      <td>11,688,800</td>\n",
       "    </tr>\n",
       "  </tbody>\n",
       "</table>\n",
       "</div>"
      ],
      "text/plain": [
       "       Date    Open    High     Low   Close      Volume\n",
       "0  1/3/2012  325.25  332.83  324.97  663.59   7,380,500\n",
       "1  1/4/2012  331.27  333.87  329.08  666.45   5,749,400\n",
       "2  1/5/2012  329.83  330.75  326.89  657.21   6,590,300\n",
       "3  1/6/2012  328.34  328.77  323.68  648.24   5,405,900\n",
       "4  1/9/2012  322.04  322.29  309.46  620.76  11,688,800"
      ]
     },
     "execution_count": 18,
     "metadata": {},
     "output_type": "execute_result"
    }
   ],
   "source": [
    "data = pd.read_csv('Google_train_data.csv')\n",
    "data.head()"
   ]
  },
  {
   "cell_type": "code",
   "execution_count": 19,
   "metadata": {},
   "outputs": [
    {
     "name": "stdout",
     "output_type": "stream",
     "text": [
      "<class 'pandas.core.frame.DataFrame'>\n",
      "RangeIndex: 1258 entries, 0 to 1257\n",
      "Data columns (total 6 columns):\n",
      " #   Column  Non-Null Count  Dtype  \n",
      "---  ------  --------------  -----  \n",
      " 0   Date    1258 non-null   object \n",
      " 1   Open    1258 non-null   float64\n",
      " 2   High    1258 non-null   float64\n",
      " 3   Low     1258 non-null   float64\n",
      " 4   Close   1258 non-null   object \n",
      " 5   Volume  1258 non-null   object \n",
      "dtypes: float64(3), object(3)\n",
      "memory usage: 59.1+ KB\n"
     ]
    }
   ],
   "source": [
    "data.info()"
   ]
  },
  {
   "cell_type": "code",
   "execution_count": 20,
   "metadata": {},
   "outputs": [],
   "source": [
    "data[\"Close\"]=pd.to_numeric(data.Close,errors='coerce')\n",
    "data = data.dropna()\n",
    "trainData = data.iloc[:,4:5].values"
   ]
  },
  {
   "cell_type": "code",
   "execution_count": 21,
   "metadata": {},
   "outputs": [
    {
     "name": "stdout",
     "output_type": "stream",
     "text": [
      "<class 'pandas.core.frame.DataFrame'>\n",
      "Int64Index: 1149 entries, 0 to 1257\n",
      "Data columns (total 6 columns):\n",
      " #   Column  Non-Null Count  Dtype  \n",
      "---  ------  --------------  -----  \n",
      " 0   Date    1149 non-null   object \n",
      " 1   Open    1149 non-null   float64\n",
      " 2   High    1149 non-null   float64\n",
      " 3   Low     1149 non-null   float64\n",
      " 4   Close   1149 non-null   float64\n",
      " 5   Volume  1149 non-null   object \n",
      "dtypes: float64(4), object(2)\n",
      "memory usage: 62.8+ KB\n"
     ]
    }
   ],
   "source": [
    "data.info()"
   ]
  },
  {
   "cell_type": "code",
   "execution_count": 22,
   "metadata": {},
   "outputs": [
    {
     "data": {
      "text/plain": [
       "(1149, 1)"
      ]
     },
     "execution_count": 22,
     "metadata": {},
     "output_type": "execute_result"
    }
   ],
   "source": [
    "sc = MinMaxScaler(feature_range=(0,1))\n",
    "trainData = sc.fit_transform(trainData)\n",
    "trainData.shape"
   ]
  },
  {
   "cell_type": "code",
   "execution_count": 23,
   "metadata": {},
   "outputs": [],
   "source": [
    "X_train = []\n",
    "y_train = []\n",
    "\n",
    "for i in range (60,1149): #60 : timestep // 1149 : length of the data\n",
    "    X_train.append(trainData[i-60:i,0]) \n",
    "    y_train.append(trainData[i,0])\n",
    "\n",
    "X_train,y_train = np.array(X_train),np.array(y_train)"
   ]
  },
  {
   "cell_type": "code",
   "execution_count": 24,
   "metadata": {},
   "outputs": [
    {
     "data": {
      "text/plain": [
       "(1089, 60, 1)"
      ]
     },
     "execution_count": 24,
     "metadata": {},
     "output_type": "execute_result"
    }
   ],
   "source": [
    "X_train = np.reshape(X_train,(X_train.shape[0],X_train.shape[1],1)) #adding the batch_size axis\n",
    "X_train.shape"
   ]
  },
  {
   "cell_type": "code",
   "execution_count": 25,
   "metadata": {},
   "outputs": [],
   "source": [
    "model = Sequential()\n",
    "\n",
    "model.add(LSTM(units=100, return_sequences = True, input_shape =(X_train.shape[1],1)))\n",
    "model.add(Dropout(0.2))\n",
    "\n",
    "model.add(LSTM(units=100, return_sequences = True))\n",
    "model.add(Dropout(0.2))\n",
    "\n",
    "model.add(LSTM(units=100, return_sequences = True))\n",
    "model.add(Dropout(0.2))\n",
    "\n",
    "model.add(LSTM(units=100, return_sequences = False))\n",
    "model.add(Dropout(0.2))\n",
    "\n",
    "model.add(Dense(units =1))\n",
    "model.compile(optimizer='adam',loss=\"mean_squared_error\")"
   ]
  },
  {
   "cell_type": "code",
   "execution_count": 26,
   "metadata": {},
   "outputs": [
    {
     "name": "stdout",
     "output_type": "stream",
     "text": [
      "Epoch 1/20\n",
      "35/35 - 16s - loss: 0.0437 - 16s/epoch - 455ms/step\n",
      "Epoch 2/20\n",
      "35/35 - 5s - loss: 0.0120 - 5s/epoch - 147ms/step\n",
      "Epoch 3/20\n",
      "35/35 - 5s - loss: 0.0104 - 5s/epoch - 134ms/step\n",
      "Epoch 4/20\n",
      "35/35 - 5s - loss: 0.0117 - 5s/epoch - 136ms/step\n",
      "Epoch 5/20\n",
      "35/35 - 5s - loss: 0.0086 - 5s/epoch - 132ms/step\n",
      "Epoch 6/20\n",
      "35/35 - 5s - loss: 0.0080 - 5s/epoch - 143ms/step\n",
      "Epoch 7/20\n",
      "35/35 - 7s - loss: 0.0084 - 7s/epoch - 198ms/step\n",
      "Epoch 8/20\n",
      "35/35 - 7s - loss: 0.0073 - 7s/epoch - 187ms/step\n",
      "Epoch 9/20\n",
      "35/35 - 6s - loss: 0.0074 - 6s/epoch - 183ms/step\n",
      "Epoch 10/20\n",
      "35/35 - 6s - loss: 0.0063 - 6s/epoch - 180ms/step\n",
      "Epoch 11/20\n",
      "35/35 - 6s - loss: 0.0067 - 6s/epoch - 182ms/step\n",
      "Epoch 12/20\n",
      "35/35 - 7s - loss: 0.0062 - 7s/epoch - 186ms/step\n",
      "Epoch 13/20\n",
      "35/35 - 6s - loss: 0.0066 - 6s/epoch - 176ms/step\n",
      "Epoch 14/20\n",
      "35/35 - 6s - loss: 0.0061 - 6s/epoch - 177ms/step\n",
      "Epoch 15/20\n",
      "35/35 - 6s - loss: 0.0059 - 6s/epoch - 180ms/step\n",
      "Epoch 16/20\n",
      "35/35 - 6s - loss: 0.0062 - 6s/epoch - 177ms/step\n",
      "Epoch 17/20\n",
      "35/35 - 6s - loss: 0.0056 - 6s/epoch - 180ms/step\n",
      "Epoch 18/20\n",
      "35/35 - 7s - loss: 0.0054 - 7s/epoch - 190ms/step\n",
      "Epoch 19/20\n",
      "35/35 - 6s - loss: 0.0055 - 6s/epoch - 177ms/step\n",
      "Epoch 20/20\n",
      "35/35 - 6s - loss: 0.0049 - 6s/epoch - 182ms/step\n"
     ]
    }
   ],
   "source": [
    "hist = model.fit(X_train, y_train, epochs = 20, batch_size = 32, verbose=2)"
   ]
  },
  {
   "cell_type": "code",
   "execution_count": 27,
   "metadata": {},
   "outputs": [
    {
     "data": {
      "image/png": "[encoded data removed]",
      "text/plain": [
       "<Figure size 640x480 with 1 Axes>"
      ]
     },
     "metadata": {},
     "output_type": "display_data"
    }
   ],
   "source": [
    "plt.plot(hist.history['loss'])\n",
    "plt.title('Training model loss')\n",
    "plt.ylabel('loss')\n",
    "plt.xlabel('epoch')\n",
    "plt.legend(['train'], loc='upper left')\n",
    "plt.show()"
   ]
  },
  {
   "cell_type": "code",
   "execution_count": 28,
   "metadata": {},
   "outputs": [
    {
     "data": {
      "text/plain": [
       "(192, 60, 1)"
      ]
     },
     "execution_count": 28,
     "metadata": {},
     "output_type": "execute_result"
    }
   ],
   "source": [
    "testData = pd.read_csv('Google_test_data.csv')\n",
    "testData[\"Close\"]=pd.to_numeric(testData.Close,errors='coerce')\n",
    "testData = testData.dropna()\n",
    "testData = testData.iloc[:,4:5]\n",
    "y_test = testData.iloc[60:,0:].values \n",
    "#input array for the model\n",
    "inputClosing = testData.iloc[:,0:].values \n",
    "inputClosing_scaled = sc.transform(inputClosing)\n",
    "inputClosing_scaled.shape\n",
    "X_test = []\n",
    "length = len(testData)\n",
    "timestep = 60\n",
    "for i in range(timestep,length):  \n",
    "    X_test.append(inputClosing_scaled[i-timestep:i,0])\n",
    "X_test = np.array(X_test)\n",
    "X_test = np.reshape(X_test,(X_test.shape[0],X_test.shape[1],1))\n",
    "X_test.shape"
   ]
  },
  {
   "cell_type": "code",
   "execution_count": 29,
   "metadata": {},
   "outputs": [
    {
     "name": "stdout",
     "output_type": "stream",
     "text": [
      "6/6 [==============================] - 3s 50ms/step\n"
     ]
    },
    {
     "data": {
      "text/plain": [
       "array([[1.1638926],\n",
       "       [1.1664228],\n",
       "       [1.1760844],\n",
       "       [1.1916069],\n",
       "       [1.2065148],\n",
       "       [1.211956 ],\n",
       "       [1.205774 ],\n",
       "       [1.1923915],\n",
       "       [1.1805712],\n",
       "       [1.1740644],\n",
       "       [1.1660806],\n",
       "       [1.1551517],\n",
       "       [1.144641 ],\n",
       "       [1.1347815],\n",
       "       [1.1303555],\n",
       "       [1.1319624],\n",
       "       [1.1450459],\n",
       "       [1.168686 ],\n",
       "       [1.1986324],\n",
       "       [1.2308732],\n",
       "       [1.2507604],\n",
       "       [1.2562908],\n",
       "       [1.2449509],\n",
       "       [1.2215763],\n",
       "       [1.1955243],\n",
       "       [1.1754941],\n",
       "       [1.1645616],\n",
       "       [1.1587056],\n",
       "       [1.1506628],\n",
       "       [1.1406833],\n",
       "       [1.1298805],\n",
       "       [1.1178272],\n",
       "       [1.1007755],\n",
       "       [1.0792472],\n",
       "       [1.0669206],\n",
       "       [1.0699787],\n",
       "       [1.0856783],\n",
       "       [1.1077347],\n",
       "       [1.1317047],\n",
       "       [1.1487075],\n",
       "       [1.1643082],\n",
       "       [1.1805581],\n",
       "       [1.1979169],\n",
       "       [1.2142607],\n",
       "       [1.2264622],\n",
       "       [1.2307022],\n",
       "       [1.2246981],\n",
       "       [1.2162117],\n",
       "       [1.2107605],\n",
       "       [1.2114848],\n",
       "       [1.2190889],\n",
       "       [1.2262594],\n",
       "       [1.2298646],\n",
       "       [1.2291757],\n",
       "       [1.2282692],\n",
       "       [1.225487 ],\n",
       "       [1.2188655],\n",
       "       [1.2140973],\n",
       "       [1.2186096],\n",
       "       [1.231743 ],\n",
       "       [1.2532631],\n",
       "       [1.2813386],\n",
       "       [1.3053768],\n",
       "       [1.3165072],\n",
       "       [1.3130482],\n",
       "       [1.298896 ],\n",
       "       [1.2846652],\n",
       "       [1.2756675],\n",
       "       [1.2731652],\n",
       "       [1.2742659],\n",
       "       [1.277366 ],\n",
       "       [1.2802349],\n",
       "       [1.2787675],\n",
       "       [1.2750648],\n",
       "       [1.2710817],\n",
       "       [1.2691084],\n",
       "       [1.2698711],\n",
       "       [1.273487 ],\n",
       "       [1.2827374],\n",
       "       [1.2978061],\n",
       "       [1.3183482],\n",
       "       [1.3400544],\n",
       "       [1.3559388],\n",
       "       [1.3629726],\n",
       "       [1.3681358],\n",
       "       [1.3777629],\n",
       "       [1.3919003],\n",
       "       [1.4058455],\n",
       "       [1.4157599],\n",
       "       [1.4201077],\n",
       "       [1.4221826],\n",
       "       [1.4285392],\n",
       "       [1.4411694],\n",
       "       [1.4521853],\n",
       "       [1.4548172],\n",
       "       [1.4468595],\n",
       "       [1.4290808],\n",
       "       [1.4054313],\n",
       "       [1.3823141],\n",
       "       [1.3683597],\n",
       "       [1.3668355],\n",
       "       [1.3765563],\n",
       "       [1.3947037],\n",
       "       [1.4146839],\n",
       "       [1.4309353],\n",
       "       [1.4397405],\n",
       "       [1.4421071],\n",
       "       [1.4406776],\n",
       "       [1.4402325],\n",
       "       [1.442849 ],\n",
       "       [1.4490572],\n",
       "       [1.4589964],\n",
       "       [1.4705057],\n",
       "       [1.4834601],\n",
       "       [1.4991947],\n",
       "       [1.513971 ],\n",
       "       [1.5262927],\n",
       "       [1.536683 ],\n",
       "       [1.5477947],\n",
       "       [1.538489 ],\n",
       "       [1.5027989],\n",
       "       [1.4493183],\n",
       "       [1.3968843],\n",
       "       [1.3582643],\n",
       "       [1.3347783],\n",
       "       [1.3231891],\n",
       "       [1.3195809],\n",
       "       [1.3215775],\n",
       "       [1.3210938],\n",
       "       [1.3139635],\n",
       "       [1.310141 ],\n",
       "       [1.3167913],\n",
       "       [1.3302668],\n",
       "       [1.3412286],\n",
       "       [1.3476324],\n",
       "       [1.3502184],\n",
       "       [1.3483362],\n",
       "       [1.3417006],\n",
       "       [1.3322145],\n",
       "       [1.3189842],\n",
       "       [1.3040255],\n",
       "       [1.2874042],\n",
       "       [1.2586137],\n",
       "       [1.2222325],\n",
       "       [1.1842467],\n",
       "       [1.1514505],\n",
       "       [1.13198  ],\n",
       "       [1.1301295],\n",
       "       [1.1431874],\n",
       "       [1.1648157],\n",
       "       [1.1905644],\n",
       "       [1.2152822],\n",
       "       [1.2365267],\n",
       "       [1.2546508],\n",
       "       [1.2690133],\n",
       "       [1.2805315],\n",
       "       [1.2910503],\n",
       "       [1.2992839],\n",
       "       [1.2988352],\n",
       "       [1.2877821],\n",
       "       [1.2685062],\n",
       "       [1.2467787],\n",
       "       [1.2304815],\n",
       "       [1.225067 ],\n",
       "       [1.2319782],\n",
       "       [1.2495358],\n",
       "       [1.2698754],\n",
       "       [1.2885984],\n",
       "       [1.3058614],\n",
       "       [1.3215852],\n",
       "       [1.334804 ],\n",
       "       [1.345413 ],\n",
       "       [1.3535434],\n",
       "       [1.35759  ],\n",
       "       [1.3573304],\n",
       "       [1.3506352],\n",
       "       [1.3402826],\n",
       "       [1.3308755],\n",
       "       [1.323161 ],\n",
       "       [1.3163142],\n",
       "       [1.3324267],\n",
       "       [1.3714412],\n",
       "       [1.4196168],\n",
       "       [1.4619061],\n",
       "       [1.4884511],\n",
       "       [1.4946288],\n",
       "       [1.4756466],\n",
       "       [1.4420227],\n",
       "       [1.406037 ],\n",
       "       [1.3821033],\n",
       "       [1.3709174],\n",
       "       [1.3669332]], dtype=float32)"
      ]
     },
     "execution_count": 29,
     "metadata": {},
     "output_type": "execute_result"
    }
   ],
   "source": [
    "y_pred = model.predict(X_test)\n",
    "y_pred"
   ]
  },
  {
   "cell_type": "code",
   "execution_count": 30,
   "metadata": {},
   "outputs": [],
   "source": [
    "predicted_price = sc.inverse_transform(y_pred)"
   ]
  },
  {
   "cell_type": "code",
   "execution_count": 31,
   "metadata": {},
   "outputs": [
    {
     "data": {
      "image/png": "[encoded data removed]",
      "text/plain": [
       "<Figure size 640x480 with 1 Axes>"
      ]
     },
     "metadata": {},
     "output_type": "display_data"
    }
   ],
   "source": [
    "plt.plot(y_test, color = 'red', label = 'Actual Stock Price')\n",
    "plt.plot(predicted_price, color = 'green', label = 'Predicted Stock Price')\n",
    "plt.title('Google stock price prediction')\n",
    "plt.xlabel('Time')\n",
    "plt.ylabel('Stock Price')\n",
    "plt.legend()\n",
    "plt.show()"
   ]
  },
  {
   "cell_type": "code",
   "execution_count": 32,
   "metadata": {},
   "outputs": [],
   "source": [
    "# As you can see above, the model can predict the trend of the actual stock prices very closely. \n",
    "#The accuracy of the model can be enhanced by training with more data and increasing the LSTM layers.\n"
   ]
  },
  {
   "cell_type": "code",
   "execution_count": null,
   "metadata": {},
   "outputs": [],
   "source": []
  },
  {
   "cell_type": "code",
   "execution_count": null,
   "metadata": {},
   "outputs": [],
   "source": []
  }
 ],
 "metadata": {
  "kernelspec": {
   "display_name": "Python 3",
   "language": "python",
   "name": "python3"
  },
  "language_info": {
   "codemirror_mode": {
    "name": "ipython",
    "version": 3
   },
   "file_extension": ".py",
   "mimetype": "text/x-python",
   "name": "python",
   "nbconvert_exporter": "python",
   "pygments_lexer": "ipython3",
   "version": "3.11.3"
  }
 },
 "nbformat": 4,
 "nbformat_minor": 4
}
